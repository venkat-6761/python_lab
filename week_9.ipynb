{
 "cells": [
  {
   "cell_type": "code",
   "execution_count": 7,
   "id": "e6f9d198-e502-42dd-ac04-e311049346ca",
   "metadata": {},
   "outputs": [
    {
     "name": "stdout",
     "output_type": "stream",
     "text": [
      "[2, 4, 6, 8]\n",
      "[2 4 6 8]\n"
     ]
    }
   ],
   "source": [
    "import numpy as n\n",
    "p=[1,2,3,4]\n",
    "r=[x*2 for x in p]\n",
    "print(r)\n",
    "narray=n.array([1,2,3,4])\n",
    "ra=narray*2\n",
    "print(ra)"
   ]
  },
  {
   "cell_type": "code",
   "execution_count": 9,
   "id": "3137712c-eed2-4eff-aa9e-486cd56a9ddd",
   "metadata": {},
   "outputs": [
    {
     "name": "stdout",
     "output_type": "stream",
     "text": [
      "[[0. 0. 0.]\n",
      " [0. 0. 0.]]\n"
     ]
    }
   ],
   "source": [
    "import numpy as n\n",
    "a=n.zeros((2,3))\n",
    "print(a)"
   ]
  },
  {
   "cell_type": "code",
   "execution_count": 11,
   "id": "35990463-7ddf-4846-9da8-b42bb81e88de",
   "metadata": {},
   "outputs": [
    {
     "name": "stdout",
     "output_type": "stream",
     "text": [
      "[[1. 1. 1.]\n",
      " [1. 1. 1.]]\n"
     ]
    }
   ],
   "source": [
    "import numpy as n\n",
    "a=n.ones((2,3))\n",
    "print(a)"
   ]
  },
  {
   "cell_type": "code",
   "execution_count": 15,
   "id": "66308b45-906b-457b-bcc2-f58a23be1731",
   "metadata": {},
   "outputs": [
    {
     "name": "stdout",
     "output_type": "stream",
     "text": [
      "[[1. 1. 1.]\n",
      " [1. 1. 1.]]\n"
     ]
    }
   ],
   "source": [
    "import  numpy as n\n",
    "a=n.empty((2,3))\n",
    "print(a)"
   ]
  },
  {
   "cell_type": "code",
   "execution_count": 17,
   "id": "43e6f6b2-c667-41cb-b19e-6e8ee9963369",
   "metadata": {},
   "outputs": [
    {
     "name": "stdout",
     "output_type": "stream",
     "text": [
      "[[7 7 7]\n",
      " [7 7 7]]\n"
     ]
    }
   ],
   "source": [
    "import  numpy as n\n",
    "a=n.full((2,3),7)\n",
    "print(a)"
   ]
  },
  {
   "cell_type": "code",
   "execution_count": 21,
   "id": "289f509d-1c96-4757-9998-b464f7ad84cf",
   "metadata": {},
   "outputs": [
    {
     "name": "stdout",
     "output_type": "stream",
     "text": [
      "[0 1 2 3 4 5 6 7 8 9]\n"
     ]
    }
   ],
   "source": [
    "import  numpy as n\n",
    "a=n.arange(0,10,1)\n",
    "print(a)"
   ]
  },
  {
   "cell_type": "code",
   "execution_count": 27,
   "id": "4bc20f4f-8e52-4446-8765-33d87160cef9",
   "metadata": {},
   "outputs": [
    {
     "name": "stdout",
     "output_type": "stream",
     "text": [
      "[0.         0.22222222 0.44444444 0.66666667 0.88888889 1.11111111\n",
      " 1.33333333 1.55555556 1.77777778 2.        ]\n"
     ]
    }
   ],
   "source": [
    "import  numpy as n\n",
    "a=n.linspace(0,2,10)\n",
    "print(a)"
   ]
  },
  {
   "cell_type": "code",
   "execution_count": 31,
   "id": "c8a04972-ca44-402f-902f-b764523662bb",
   "metadata": {},
   "outputs": [
    {
     "name": "stdout",
     "output_type": "stream",
     "text": [
      "[[1. 0. 0.]\n",
      " [0. 1. 0.]\n",
      " [0. 0. 1.]]\n"
     ]
    }
   ],
   "source": [
    "import  numpy as n\n",
    "a=n.eye(3)\n",
    "print(a)"
   ]
  },
  {
   "cell_type": "code",
   "execution_count": 35,
   "id": "eb156e17-384d-41b5-b9af-a07bc37dbc8d",
   "metadata": {},
   "outputs": [
    {
     "name": "stdout",
     "output_type": "stream",
     "text": [
      "[[0.30016471 0.02053668 0.1551972 ]\n",
      " [0.66047097 0.62618525 0.93590107]]\n"
     ]
    }
   ],
   "source": [
    "import  numpy as n\n",
    "a=n.random.rand(2,3)\n",
    "print(a)"
   ]
  },
  {
   "cell_type": "code",
   "execution_count": 39,
   "id": "66e46191-f210-4659-9abe-640f61a05942",
   "metadata": {},
   "outputs": [
    {
     "name": "stdout",
     "output_type": "stream",
     "text": [
      "[1. 2. 3. 4.] float64\n"
     ]
    }
   ],
   "source": [
    "import  numpy as n\n",
    "a=n.array([1,2,3,4],dtype='float64')\n",
    "print(a,a.dtype)\n"
   ]
  },
  {
   "cell_type": "code",
   "execution_count": 43,
   "id": "41469e57-a3a4-4da7-9fb8-5658fafc92df",
   "metadata": {},
   "outputs": [
    {
     "name": "stdout",
     "output_type": "stream",
     "text": [
      "(2, 3)\n"
     ]
    }
   ],
   "source": [
    "import  numpy as n\n",
    "a=n.array([[1,2,3],[5,6,7]])\n",
    "print(a.shape)"
   ]
  },
  {
   "cell_type": "code",
   "execution_count": 47,
   "id": "c0771729-b38f-417c-91c5-be281b20ccae",
   "metadata": {},
   "outputs": [
    {
     "name": "stdout",
     "output_type": "stream",
     "text": [
      "int32\n"
     ]
    }
   ],
   "source": [
    "print(a.dtype)"
   ]
  },
  {
   "cell_type": "code",
   "execution_count": 57,
   "id": "fbf32f23-ed90-4880-8ac8-49e699d52276",
   "metadata": {},
   "outputs": [
    {
     "name": "stdout",
     "output_type": "stream",
     "text": [
      "(2, 2) 2\n",
      "<U1\n"
     ]
    }
   ],
   "source": [
    "a=n.array([['a','b'],['c','d']])\n",
    "print(a.shape,a.ndim)\n",
    "print(a.dtype)"
   ]
  },
  {
   "cell_type": "code",
   "execution_count": 65,
   "id": "3bfb9322-e877-483d-9e03-8af6142d5422",
   "metadata": {},
   "outputs": [
    {
     "name": "stdout",
     "output_type": "stream",
     "text": [
      "4 4\n",
      "<U4\n"
     ]
    }
   ],
   "source": [
    "print(a.size,a.itemsize)\n",
    "b=n.array(['uday'])\n",
    "print(b.dtype)"
   ]
  },
  {
   "cell_type": "code",
   "execution_count": 67,
   "id": "b0a23b12-8d60-412b-88f8-f40f883d4205",
   "metadata": {},
   "outputs": [
    {
     "name": "stdout",
     "output_type": "stream",
     "text": [
      "[1 2 3 4]\n"
     ]
    }
   ],
   "source": [
    "a=n.array([1,2,3,4],dtype='int32')\n",
    "print(a)"
   ]
  },
  {
   "cell_type": "code",
   "execution_count": 81,
   "id": "9cc17c47-9afd-4ba4-a6c4-ead2cea1bf0a",
   "metadata": {},
   "outputs": [
    {
     "name": "stdout",
     "output_type": "stream",
     "text": [
      "[[ 4  4  4  8]\n",
      " [11  8 11 16]]\n",
      "[[-2  0  2  0]\n",
      " [-1  4  3  0]]\n",
      "[[0 1 3 1]\n",
      " [0 3 1 1]]\n",
      "[[1 0 0 0]\n",
      " [5 0 3 0]]\n"
     ]
    }
   ],
   "source": [
    "n1=n.array([[1,2,3,4],[5,6,7,8]])\n",
    "n2=n.array([[3,2,1,4],[6,2,4,8]])\n",
    "print(n1+n2)\n",
    "print(n1-n2)\n",
    "#print(n1*n2)\n",
    "print(n1//n2)\n",
    "print(n1%n2)\n"
   ]
  },
  {
   "cell_type": "code",
   "execution_count": 77,
   "id": "86289653-3d93-417e-89ba-79984f04db95",
   "metadata": {},
   "outputs": [
    {
     "ename": "UFuncTypeError",
     "evalue": "ufunc 'add' did not contain a loop with signature matching types (dtype('<U5'), dtype('<U4')) -> None",
     "output_type": "error",
     "traceback": [
      "\u001b[1;31m---------------------------------------------------------------------------\u001b[0m",
      "\u001b[1;31mUFuncTypeError\u001b[0m                            Traceback (most recent call last)",
      "Cell \u001b[1;32mIn[77], line 3\u001b[0m\n\u001b[0;32m      1\u001b[0m n1\u001b[38;5;241m=\u001b[39mn\u001b[38;5;241m.\u001b[39marray([[\u001b[38;5;124m'\u001b[39m\u001b[38;5;124muday\u001b[39m\u001b[38;5;124m'\u001b[39m],[\u001b[38;5;124m'\u001b[39m\u001b[38;5;124maerra\u001b[39m\u001b[38;5;124m'\u001b[39m]])\n\u001b[0;32m      2\u001b[0m n2\u001b[38;5;241m=\u001b[39mn\u001b[38;5;241m.\u001b[39marray([[\u001b[38;5;124m'\u001b[39m\u001b[38;5;124msai\u001b[39m\u001b[38;5;124m'\u001b[39m],[\u001b[38;5;124m'\u001b[39m\u001b[38;5;124m----\u001b[39m\u001b[38;5;124m'\u001b[39m]])\n\u001b[1;32m----> 3\u001b[0m \u001b[38;5;28mprint\u001b[39m(n1\u001b[38;5;241m+\u001b[39mn2)\n\u001b[0;32m      4\u001b[0m \u001b[38;5;28mprint\u001b[39m(n1\u001b[38;5;241m-\u001b[39mn2)\n",
      "\u001b[1;31mUFuncTypeError\u001b[0m: ufunc 'add' did not contain a loop with signature matching types (dtype('<U5'), dtype('<U4')) -> None"
     ]
    }
   ],
   "source": [
    "n1=n.array([['uday'],['aerra']])\n",
    "n2=n.array([['sai'],['----']])\n",
    "print(n1+n2)\n",
    "print(n1-n2)"
   ]
  },
  {
   "cell_type": "code",
   "execution_count": 99,
   "id": "317b3d24-c010-490c-86ae-369902c993c9",
   "metadata": {},
   "outputs": [
    {
     "name": "stdout",
     "output_type": "stream",
     "text": [
      "[[ 4  4  4  8]\n",
      " [11  8 11 16]]\n",
      "[[-2  0  2  0]\n",
      " [-1  4  3  0]]\n",
      "[[ 3  4  3 16]\n",
      " [30 12 28 64]]\n",
      "[[0.33333333 1.         3.         1.        ]\n",
      " [0.83333333 3.         1.75       1.        ]]\n",
      "[[1 0 0 0]\n",
      " [5 0 3 0]]\n"
     ]
    }
   ],
   "source": [
    "n1=n.array([[1,2,3,4],[5,6,7,8]])\n",
    "n2=n.array([[3,2,1,4],[6,2,4,8]])\n",
    "print(n.add(n1,n2))\n",
    "print(n.subtract(n1,n2))\n",
    "print(n.multiply(n1,n2))\n",
    "print(n.divide(n1,n2))\n",
    "print(n.mod(n1,n2))"
   ]
  },
  {
   "cell_type": "code",
   "execution_count": 89,
   "id": "24f7888d-6704-4eb5-8c1f-69211190a218",
   "metadata": {},
   "outputs": [
    {
     "ename": "UFuncTypeError",
     "evalue": "ufunc 'add' did not contain a loop with signature matching types (dtype('<U5'), dtype('<U4')) -> None",
     "output_type": "error",
     "traceback": [
      "\u001b[1;31m---------------------------------------------------------------------------\u001b[0m",
      "\u001b[1;31mUFuncTypeError\u001b[0m                            Traceback (most recent call last)",
      "Cell \u001b[1;32mIn[89], line 3\u001b[0m\n\u001b[0;32m      1\u001b[0m n1\u001b[38;5;241m=\u001b[39mn\u001b[38;5;241m.\u001b[39marray([[\u001b[38;5;124m'\u001b[39m\u001b[38;5;124muday\u001b[39m\u001b[38;5;124m'\u001b[39m],[\u001b[38;5;124m'\u001b[39m\u001b[38;5;124maerra\u001b[39m\u001b[38;5;124m'\u001b[39m]])\n\u001b[0;32m      2\u001b[0m n2\u001b[38;5;241m=\u001b[39mn\u001b[38;5;241m.\u001b[39marray([[\u001b[38;5;124m'\u001b[39m\u001b[38;5;124msai\u001b[39m\u001b[38;5;124m'\u001b[39m],[\u001b[38;5;124m'\u001b[39m\u001b[38;5;124m----\u001b[39m\u001b[38;5;124m'\u001b[39m]])\n\u001b[1;32m----> 3\u001b[0m \u001b[38;5;28mprint\u001b[39m(n\u001b[38;5;241m.\u001b[39madd(n1,n2))\n\u001b[0;32m      4\u001b[0m \u001b[38;5;28mprint\u001b[39m(n\u001b[38;5;241m.\u001b[39msubtract(n1,n2))\n",
      "\u001b[1;31mUFuncTypeError\u001b[0m: ufunc 'add' did not contain a loop with signature matching types (dtype('<U5'), dtype('<U4')) -> None"
     ]
    }
   ],
   "source": [
    "n1=n.array([['uday'],['aerra']])\n",
    "n2=n.array([['sai'],['----']])\n",
    "print(n.add(n1,n2))\n",
    "print(n.subtract(n1,n2))"
   ]
  },
  {
   "cell_type": "code",
   "execution_count": 107,
   "id": "69b61c83-6ad3-4c83-8fd2-a947b325c5e0",
   "metadata": {},
   "outputs": [
    {
     "name": "stdout",
     "output_type": "stream",
     "text": [
      "[[0.29701507 0.78431783 0.16874719 0.2171993 ]\n",
      " [0.30328807 0.17361506 0.72335989 0.34422164]]\n",
      "[[ 4.  4.  4.  8.]\n",
      " [11.  8. 11. 16.]]\n",
      "[[0.33333333 1.         3.         1.        ]\n",
      " [0.83333333 3.         1.75       1.        ]]\n"
     ]
    }
   ],
   "source": [
    "n1=n.array([[1,2,3,4],[5,6,7,8]])\n",
    "n2=n.array([[3,2,1,4],[6,2,4,8]])\n",
    "n3=n.random.rand(2,4)\n",
    "print(n3)\n",
    "print(n.add(n1,n2,n3))\n",
    "print(n.divide(n1,n2))"
   ]
  },
  {
   "cell_type": "code",
   "execution_count": 119,
   "id": "a107c6f8-93e6-4d41-80f8-72e5cf17a6f8",
   "metadata": {},
   "outputs": [
    {
     "name": "stdout",
     "output_type": "stream",
     "text": [
      "8\n"
     ]
    }
   ],
   "source": [
    "print(n2[-1,-1])"
   ]
  },
  {
   "cell_type": "code",
   "execution_count": 129,
   "id": "26b193a4-aa0a-4704-bc11-f93303a6f3b6",
   "metadata": {},
   "outputs": [
    {
     "name": "stdout",
     "output_type": "stream",
     "text": [
      "y\n",
      "['d' 'a']\n",
      "['d']\n",
      "['u' 'd' 'a' 'y']\n",
      "['u' 'a']\n"
     ]
    }
   ],
   "source": [
    "c=n.array(['u','d','a','y'])\n",
    "print(c[-1])\n",
    "print(c[1:-1])\n",
    "print(c[1:2])\n",
    "print(c[0:5:1])\n",
    "print(c[0:5:2])"
   ]
  },
  {
   "cell_type": "code",
   "execution_count": 136,
   "id": "a7511e5c-a7ab-432c-b1d7-1f288f0bf055",
   "metadata": {},
   "outputs": [
    {
     "name": "stdout",
     "output_type": "stream",
     "text": [
      "u\n",
      "d\n",
      "a\n",
      "y\n"
     ]
    }
   ],
   "source": [
    "#for i in range(len(c)-1):\n",
    "for i in range(len(c)):\n",
    "    print(c[i])"
   ]
  },
  {
   "cell_type": "code",
   "execution_count": 146,
   "id": "e4cb4597-48e6-4d74-b63d-959bd0565470",
   "metadata": {},
   "outputs": [
    {
     "name": "stdout",
     "output_type": "stream",
     "text": [
      "[1 3 5 7]\n"
     ]
    }
   ],
   "source": [
    "a=n.array([1,2,3,4,5,6,7,8])\n",
    "#index=[0,2,4,6,8](error)\n",
    "index=[0,2,4,6]\n",
    "b=a[index]\n",
    "print(b)"
   ]
  },
  {
   "cell_type": "code",
   "execution_count": 152,
   "id": "50beb369-cc2a-40a7-a32c-b8316817a796",
   "metadata": {},
   "outputs": [
    {
     "name": "stdout",
     "output_type": "stream",
     "text": [
      "[False False False False False  True  True  True]\n",
      "[6 7 8]\n"
     ]
    }
   ],
   "source": [
    "mask=a>5\n",
    "print(mask)\n",
    "newarray=a[mask]\n",
    "print(newarray)"
   ]
  },
  {
   "cell_type": "code",
   "execution_count": 156,
   "id": "84078e9b-3a7a-4111-9065-299ef742077f",
   "metadata": {},
   "outputs": [
    {
     "name": "stdin",
     "output_type": "stream",
     "text": [
      " 1 2 3 4\n"
     ]
    },
    {
     "name": "stdout",
     "output_type": "stream",
     "text": [
      "<map object at 0x0000024BFFF7A6E0>\n"
     ]
    }
   ],
   "source": [
    "arr=n.array(map(int,input()))\n",
    "print(arr)"
   ]
  },
  {
   "cell_type": "code",
   "execution_count": 164,
   "id": "a72d3b9a-0a94-4221-b0dd-9c8d499c292a",
   "metadata": {},
   "outputs": [
    {
     "name": "stdout",
     "output_type": "stream",
     "text": [
      "[1 0 0 0 5 6 7 8]\n"
     ]
    }
   ],
   "source": [
    "a=n.array([1,2,3,4,5,6,7,8])\n",
    "a[1:4]=[0,0,0]\n",
    "print(a)"
   ]
  },
  {
   "cell_type": "code",
   "execution_count": 4,
   "id": "4b7238f4-e836-4ca4-9612-57eb5b809cfe",
   "metadata": {},
   "outputs": [
    {
     "name": "stdout",
     "output_type": "stream",
     "text": [
      "[2 3 4 5]\n",
      "[5 6 7]\n",
      "[1 2 3 4]\n",
      "[5 6]\n",
      "[2 4]\n",
      "[1 3 5 7]\n"
     ]
    }
   ],
   "source": [
    "import numpy as np \n",
    "arr = np.array([1, 2, 3, 4, 5, 6, 7]) \n",
    "print(arr[1:5]) \n",
    "print(arr[4:]) \n",
    "print(arr[:4]) \n",
    "print(arr[-3:-1]) \n",
    "print(arr[1:5:2])\n",
    "print(arr[::2])\n"
   ]
  },
  {
   "cell_type": "code",
   "execution_count": 6,
   "id": "0e6e29cb-1a18-4066-bf5d-77d0aa62f5f7",
   "metadata": {},
   "outputs": [
    {
     "name": "stdout",
     "output_type": "stream",
     "text": [
      "[[1.         1.41421356 1.73205081]\n",
      " [2.         2.23606798 2.44948974]]\n",
      "1.707825127659933\n"
     ]
    }
   ],
   "source": [
    "import numpy as np\n",
    "arr=np.array([[1,2,3],[4,5,6]])\n",
    "print(np.sqrt(arr))\n",
    "print(np.std(arr))\n"
   ]
  },
  {
   "cell_type": "code",
   "execution_count": 8,
   "id": "17d832a8-1737-436f-b1fa-070f62c26230",
   "metadata": {},
   "outputs": [
    {
     "name": "stdout",
     "output_type": "stream",
     "text": [
      "[[ 2  4  6]\n",
      " [ 8 10 12]]\n",
      "[[0 0 0]\n",
      " [0 0 0]]\n",
      "[[ 1  4  9]\n",
      " [16 25 36]]\n",
      "[[1. 1. 1.]\n",
      " [1. 1. 1.]]\n"
     ]
    }
   ],
   "source": [
    "import numpy as np\n",
    "arr1=np.array([[1,2,3],[4,5,6]])\n",
    "arr2=np.array([[1,2,3],[4,5,6]])\n",
    "print(arr1+arr2)\n",
    "print(arr1-arr2)\n",
    "print(arr1*arr2)\n",
    "print(arr1/arr2)\n"
   ]
  },
  {
   "cell_type": "code",
   "execution_count": 10,
   "id": "4cacc108-b570-4f90-a64c-086d4069a149",
   "metadata": {},
   "outputs": [
    {
     "name": "stdout",
     "output_type": "stream",
     "text": [
      "vstack: [[ 1  2  3]\n",
      " [ 4  5  6]\n",
      " [ 7  8  9]\n",
      " [10 11 12]]\n",
      "hstack: [[ 1  2  3  7  8  9]\n",
      " [ 4  5  6 10 11 12]]\n"
     ]
    }
   ],
   "source": [
    "import numpy as np\n",
    "arr1=np.array([[1,2,3],[4,5,6]])\n",
    "arr2=np.array([[7,8,9],[10,11,12]])\n",
    "print(\"vstack:\",np.vstack((arr1,arr2)))\n",
    "print(\"hstack:\",np.hstack((arr1,arr2)))\n"
   ]
  },
  {
   "cell_type": "code",
   "execution_count": 12,
   "id": "b87432c7-d8ec-4c24-a7d5-0eabff1ef61c",
   "metadata": {},
   "outputs": [
    {
     "name": "stdout",
     "output_type": "stream",
     "text": [
      "[1 2 3 4 5 6]\n"
     ]
    }
   ],
   "source": [
    "import numpy as np\n",
    "arr=np.array([[1,2,3],[4,5,6]])\n",
    "print(np.ravel(arr))\n"
   ]
  },
  {
   "cell_type": "code",
   "execution_count": 14,
   "id": "97531fd5-6e23-4829-ac56-b3bfee911b22",
   "metadata": {},
   "outputs": [
    {
     "name": "stdout",
     "output_type": "stream",
     "text": [
      "(array([2], dtype=int64),)\n"
     ]
    }
   ],
   "source": [
    "import numpy as np\n",
    "arr = np.array([10, 32, 30, 50, 20, 82, 91, 45])\n",
    "i = np.where(arr == 30)\n",
    "print(i)\n"
   ]
  },
  {
   "cell_type": "code",
   "execution_count": 16,
   "id": "4a3ec442-54be-452d-89c2-f6de19176b28",
   "metadata": {},
   "outputs": [
    {
     "name": "stdout",
     "output_type": "stream",
     "text": [
      "[[ 1  2  3  4]\n",
      " [ 1  9 13 61]\n",
      " [22 24 43 88]]\n"
     ]
    }
   ],
   "source": [
    "import numpy as np  \n",
    "arr=np.array([[1,4,2,3],[9,13,61,1],[43,24,88,22]])  \n",
    "sort_arr=np.sort(arr)  \n",
    "print(sort_arr)\n"
   ]
  },
  {
   "cell_type": "code",
   "execution_count": null,
   "id": "caed79d9-85e5-4c66-8714-53a7c0aaa5de",
   "metadata": {},
   "outputs": [],
   "source": []
  }
 ],
 "metadata": {
  "kernelspec": {
   "display_name": "Python 3 (ipykernel)",
   "language": "python",
   "name": "python3"
  },
  "language_info": {
   "codemirror_mode": {
    "name": "ipython",
    "version": 3
   },
   "file_extension": ".py",
   "mimetype": "text/x-python",
   "name": "python",
   "nbconvert_exporter": "python",
   "pygments_lexer": "ipython3",
   "version": "3.12.4"
  }
 },
 "nbformat": 4,
 "nbformat_minor": 5
}
