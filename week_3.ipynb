{
 "cells": [
  {
   "cell_type": "code",
   "execution_count": 1,
   "id": "5b045cfa",
   "metadata": {},
   "outputs": [
    {
     "name": "stdout",
     "output_type": "stream",
     "text": [
      "list converted to array is : [1 2 3]\n",
      "tuple converted to array is : [ 5 10]\n"
     ]
    }
   ],
   "source": [
    "import numpy as np\n",
    "list1=[1,2,3]\n",
    "tuple2=(5,10)\n",
    "a1=np.array(list1)\n",
    "a2=np.array(tuple2)\n",
    "print(\"list converted to array is :\",a1)\n",
    "print(\"tuple converted to array is :\",a2)\n"
   ]
  },
  {
   "cell_type": "code",
   "execution_count": 9,
   "id": "57b6af3b",
   "metadata": {},
   "outputs": [
    {
     "name": "stdout",
     "output_type": "stream",
     "text": [
      "[3]\n"
     ]
    }
   ],
   "source": [
    "import numpy as np\n",
    "list1=[1,2,3]\n",
    "tuple2=(3,5,10)\n",
    "a1=np.array(list1)\n",
    "a2=np.array(tuple2)\n",
    "a3=np.intersect1d(a1,a2)\n",
    "print(a3)"
   ]
  },
  {
   "cell_type": "code",
   "execution_count": 11,
   "id": "0d97161e",
   "metadata": {},
   "outputs": [
    {
     "name": "stdout",
     "output_type": "stream",
     "text": [
      "gcd is  2\n"
     ]
    }
   ],
   "source": [
    "import math\n",
    "def gcdab(a,b):\n",
    "    c=math.gcd(a,b)\n",
    "    print (\"gcd is \",c)\n",
    "gcdab(2,4)"
   ]
  },
  {
   "cell_type": "code",
   "execution_count": 18,
   "id": "f49524dd",
   "metadata": {},
   "outputs": [
    {
     "name": "stdout",
     "output_type": "stream",
     "text": [
      "aha\n",
      "true\n"
     ]
    }
   ],
   "source": [
    "a=input()\n",
    "b=a[::-1]\n",
    "if a == b:\n",
    "    print(\"true\")\n",
    "else:\n",
    "    print(\"false\")"
   ]
  },
  {
   "cell_type": "code",
   "execution_count": 25,
   "id": "a5faa4e6",
   "metadata": {},
   "outputs": [
    {
     "name": "stdout",
     "output_type": "stream",
     "text": [
      "[1, 1, 3, 4, 5, 5, 5, 8, 9]\n",
      "mean : 4.555555555555555\n",
      "median : 5\n",
      "mode : 5\n"
     ]
    }
   ],
   "source": [
    "import statistics as s\n",
    "list1=[1,1,3,4,5,5,5,8,9]\n",
    "\n",
    "print(list1)\n",
    "#mean\n",
    "print(\"mean :\",(sum(list1)/len(list1)))\n",
    "\n",
    "#median\n",
    "print(\"median :\",s.median(list1))\n",
    "\n",
    "#mode\n",
    "print(\"mode :\",s.mode(list1))\n"
   ]
  },
  {
   "cell_type": "code",
   "execution_count": 28,
   "id": "50289a33",
   "metadata": {},
   "outputs": [
    {
     "name": "stdout",
     "output_type": "stream",
     "text": [
      "('name', 1, 'true', (1+3j))\n",
      "(1, 2, 3, 4, 5)\n",
      "<class 'tuple'>\n",
      "('a', 1, (1+2j))\n"
     ]
    }
   ],
   "source": [
    "#creating tuple\n",
    "#1\n",
    "tuple1=(\"name\",1,\"true\",1+3j)\n",
    "print(tuple1)\n",
    "\n",
    "#2\n",
    "a=[1,2,3,4,5]\n",
    "x=tuple(a)\n",
    "print(x)\n",
    "print(type(x))\n",
    "\n",
    "#3\n",
    "y=tuple((\"a\",1,1+2j))\n",
    "print(y)"
   ]
  },
  {
   "cell_type": "code",
   "execution_count": 29,
   "id": "4ffdbec6",
   "metadata": {},
   "outputs": [
    {
     "name": "stdout",
     "output_type": "stream",
     "text": [
      "('name', 1, 'true', (1+3j))\n",
      "check whether 1 is there or not\n",
      "True\n"
     ]
    }
   ],
   "source": [
    "tuple1=(\"name\",1,\"true\",1+3j)\n",
    "print(tuple1)\n",
    "print(\"check whether 1 is there or not\")\n",
    "print(1 in tuple1)"
   ]
  },
  {
   "cell_type": "code",
   "execution_count": 30,
   "id": "460ce762",
   "metadata": {},
   "outputs": [
    {
     "name": "stdout",
     "output_type": "stream",
     "text": [
      "('name', 1, 'true', (1+3j))\n",
      "check whether 1 is there or not\n",
      "False\n"
     ]
    }
   ],
   "source": [
    "tuple1=(\"name\",1,\"true\",1+3j)\n",
    "print(tuple1)\n",
    "print(\"check whether 1 is there or not\")\n",
    "print(2 in tuple1)"
   ]
  },
  {
   "cell_type": "code",
   "execution_count": null,
   "id": "191a983e",
   "metadata": {},
   "outputs": [],
   "source": []
  }
 ],
 "metadata": {
  "kernelspec": {
   "display_name": "Python 3 (ipykernel)",
   "language": "python",
   "name": "python3"
  },
  "language_info": {
   "codemirror_mode": {
    "name": "ipython",
    "version": 3
   },
   "file_extension": ".py",
   "mimetype": "text/x-python",
   "name": "python",
   "nbconvert_exporter": "python",
   "pygments_lexer": "ipython3",
   "version": "3.9.12"
  }
 },
 "nbformat": 4,
 "nbformat_minor": 5
}
