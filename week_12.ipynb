{
 "cells": [
  {
   "cell_type": "code",
   "execution_count": 1,
   "id": "82aebab1-fc0f-4a33-8a61-926f59a49012",
   "metadata": {},
   "outputs": [
    {
     "name": "stdout",
     "output_type": "stream",
     "text": [
      "True =AND(1,1)\n",
      "False =AND(0,0)\n",
      "False =AND(1,0)\n",
      "False =AND(0,1)\n"
     ]
    }
   ],
   "source": [
    "def AND(a,b):\n",
    "    if a==1 and b==1:\n",
    "        return True\n",
    "    else:\n",
    "        return False\n",
    "print(AND(1,1),\"=AND(1,1)\")\n",
    "print(AND(0,0),\"=AND(0,0)\")\n",
    "print(AND(1,0),\"=AND(1,0)\")\n",
    "print(AND(0,1),\"=AND(0,1)\")\n"
   ]
  },
  {
   "cell_type": "code",
   "execution_count": 3,
   "id": "f3240384-5396-4310-8afb-755e8a534743",
   "metadata": {},
   "outputs": [
    {
     "name": "stdout",
     "output_type": "stream",
     "text": [
      "True =OR(1,1)\n",
      "False =OR(0,0)\n",
      "True =OR(1,0)\n",
      "True =OR(0,1)\n"
     ]
    }
   ],
   "source": [
    "def OR(a,b):\n",
    "    if a==1 or b==1:\n",
    "        return True\n",
    "    else:\n",
    "        return False\n",
    "print(OR(1,1),\"=OR(1,1)\")\n",
    "print(OR(0,0),\"=OR(0,0)\")\n",
    "print(OR(1,0),\"=OR(1,0)\")\n",
    "print(OR(0,1),\"=OR(0,1)\")\n"
   ]
  },
  {
   "cell_type": "code",
   "execution_count": 5,
   "id": "5bec9d5b-b269-476f-bd1f-ac68e9b74c8d",
   "metadata": {},
   "outputs": [
    {
     "name": "stdout",
     "output_type": "stream",
     "text": [
      "False =NOT(1)\n",
      "True =NOT(0)\n"
     ]
    }
   ],
   "source": [
    "def NOT(a):\n",
    "    if a==1 :\n",
    "        return False\n",
    "    else:\n",
    "        return True\n",
    "print(NOT(1),\"=NOT(1)\")\n",
    "print(NOT(0),\"=NOT(0)\")\n"
   ]
  },
  {
   "cell_type": "code",
   "execution_count": 7,
   "id": "f17f50f4-fdac-47c7-84e9-b8d7199088f0",
   "metadata": {},
   "outputs": [
    {
     "name": "stdout",
     "output_type": "stream",
     "text": [
      "XOR Gate: 0\n"
     ]
    }
   ],
   "source": [
    "def XOR_gate(a, b):\n",
    "    if a != b:\n",
    "        return 1\n",
    "    else:\n",
    "        return 0\n",
    "print(\"XOR Gate:\", XOR_gate(5,5))\n"
   ]
  },
  {
   "cell_type": "code",
   "execution_count": 9,
   "id": "c6b28fba-4a63-418f-8ac7-ad8b415f0239",
   "metadata": {},
   "outputs": [
    {
     "name": "stdout",
     "output_type": "stream",
     "text": [
      "XOR Gate: 0\n"
     ]
    }
   ],
   "source": [
    "def XOR_gate(a, b):\n",
    "    if a != b:\n",
    "        return 1\n",
    "    else:\n",
    "        return 0\n",
    "print(\"XOR Gate:\", XOR_gate(5,5))\n"
   ]
  },
  {
   "cell_type": "code",
   "execution_count": 11,
   "id": "31751ac1-1b65-4359-a675-30744c24d609",
   "metadata": {},
   "outputs": [
    {
     "name": "stdout",
     "output_type": "stream",
     "text": [
      "0 1\n",
      "1 0\n",
      "1 0\n",
      "0 1\n"
     ]
    }
   ],
   "source": [
    "def XOR(a,b):\n",
    "    if a!=b:\n",
    "        return 1\n",
    "    else:\n",
    "        return 0\n",
    "def AND(a,b):\n",
    "    if a==b:\n",
    "        return 1\n",
    "    else:\n",
    "        return 0\n",
    "def half_adder(a,b):\n",
    "    sum=XOR(a,b)\n",
    "    carry=AND(a,b)\n",
    "    return sum,carry\n",
    "sum,carry=half_adder(0,0)\n",
    "print(sum,carry)\n",
    "sum,carry=half_adder(0,1)\n",
    "print(sum,carry)\n",
    "sum,carry=half_adder(1,0)\n",
    "print(sum,carry)\n",
    "sum,carry=half_adder(1,1)\n",
    "print(sum,carry)\n"
   ]
  },
  {
   "cell_type": "code",
   "execution_count": 13,
   "id": "0a42eec8-f69b-4790-9cea-a21b57e7ec5f",
   "metadata": {},
   "outputs": [
    {
     "name": "stdout",
     "output_type": "stream",
     "text": [
      "0 0\n",
      "1 0\n",
      "1 0\n",
      "0 1\n",
      "1 0\n",
      "0 1\n",
      "0 1\n",
      "1 1\n"
     ]
    }
   ],
   "source": [
    "def half_adder(a,b):\n",
    "    sum=a^b\n",
    "    carry = a and b\n",
    "    return carry,sum\n",
    "def full_adder(carry_in,a,b):\n",
    "    carry1,sum1=half_adder(carry_in,a)\n",
    "    carry2,sum=half_adder(sum1,b)\n",
    "    carry=carry1 or carry2\n",
    "    return carry,sum\n",
    "carry,sum=full_adder(0,0,0)\n",
    "print(sum,carry)\n",
    "carry,sum=full_adder(0,0,1)\n",
    "print(sum,carry)\n",
    "carry,sum=full_adder(0,1,0)\n",
    "print(sum,carry)\n",
    "carry,sum=full_adder(0,1,1)\n",
    "print(sum,carry)\n",
    "carry,sum=full_adder(1,0,0)\n",
    "print(sum,carry)\n",
    "carry,sum=full_adder(1,0,1)\n",
    "print(sum,carry)\n",
    "carry,sum=full_adder(1,1,0)\n",
    "print(sum,carry)\n",
    "carry,sum=full_adder(1,1,1)\n",
    "print(sum,carry)\n"
   ]
  },
  {
   "cell_type": "code",
   "execution_count": null,
   "id": "b1107ddb-2fcc-4b28-8793-a687c3c48b0c",
   "metadata": {},
   "outputs": [],
   "source": []
  }
 ],
 "metadata": {
  "kernelspec": {
   "display_name": "Python 3 (ipykernel)",
   "language": "python",
   "name": "python3"
  },
  "language_info": {
   "codemirror_mode": {
    "name": "ipython",
    "version": 3
   },
   "file_extension": ".py",
   "mimetype": "text/x-python",
   "name": "python",
   "nbconvert_exporter": "python",
   "pygments_lexer": "ipython3",
   "version": "3.12.4"
  }
 },
 "nbformat": 4,
 "nbformat_minor": 5
}
