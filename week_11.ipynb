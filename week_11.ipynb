{
 "cells": [
  {
   "cell_type": "code",
   "execution_count": 3,
   "id": "e2fa040b-143e-47e8-a2d0-640f61d8b9c6",
   "metadata": {},
   "outputs": [
    {
     "name": "stdout",
     "output_type": "stream",
     "text": [
      "1000.0\n",
      "8.0\n",
      "1.0\n",
      "0.7071067811865475\n"
     ]
    }
   ],
   "source": [
    "from scipy import special\n",
    "a = special.exp10(3)\n",
    "print(a)\n",
    "b = special.exp2(3)\n",
    "print(b)\n",
    "c = special.sindg(90)\n",
    "print(c)\n",
    "d = special.cosdg(45)\n",
    "print(d)\n"
   ]
  },
  {
   "cell_type": "code",
   "execution_count": null,
   "id": "c18c5c1f-d421-44f1-98d4-2ddc2a3e94d1",
   "metadata": {},
   "outputs": [],
   "source": []
  }
 ],
 "metadata": {
  "kernelspec": {
   "display_name": "Python 3 (ipykernel)",
   "language": "python",
   "name": "python3"
  },
  "language_info": {
   "codemirror_mode": {
    "name": "ipython",
    "version": 3
   },
   "file_extension": ".py",
   "mimetype": "text/x-python",
   "name": "python",
   "nbconvert_exporter": "python",
   "pygments_lexer": "ipython3",
   "version": "3.12.4"
  }
 },
 "nbformat": 4,
 "nbformat_minor": 5
}
