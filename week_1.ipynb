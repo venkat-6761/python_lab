{
 "cells": [
  {
   "cell_type": "code",
   "execution_count": 5,
   "id": "7140338d-ee0c-48ae-808b-56a0018c41c0",
   "metadata": {},
   "outputs": [
    {
     "name": "stdout",
     "output_type": "stream",
     "text": [
      "30\n"
     ]
    }
   ],
   "source": [
    "a=10\n",
    "b=20\n",
    "print(a+b)"
   ]
  },
  {
   "cell_type": "code",
   "execution_count": 9,
   "id": "d98e8e3a-cd75-4344-a669-340ae5d6c6e4",
   "metadata": {},
   "outputs": [
    {
     "name": "stdin",
     "output_type": "stream",
     "text": [
      " 10\n",
      " 20\n"
     ]
    },
    {
     "name": "stdout",
     "output_type": "stream",
     "text": [
      "30\n"
     ]
    }
   ],
   "source": [
    "a=int(input())\n",
    "b=int(input())\n",
    "print(a+b)"
   ]
  },
  {
   "cell_type": "code",
   "execution_count": 11,
   "id": "7b63f233-a44f-4bab-9964-ba9ea54ff807",
   "metadata": {},
   "outputs": [
    {
     "name": "stdin",
     "output_type": "stream",
     "text": [
      " 10\n",
      " 20\n"
     ]
    },
    {
     "name": "stdout",
     "output_type": "stream",
     "text": [
      "200\n"
     ]
    }
   ],
   "source": [
    "a=int(input())\n",
    "b=int(input())\n",
    "print(a*b)"
   ]
  },
  {
   "cell_type": "code",
   "execution_count": 19,
   "id": "02e88508-c921-4969-afef-a79b97ba5059",
   "metadata": {},
   "outputs": [
    {
     "name": "stdin",
     "output_type": "stream",
     "text": [
      " 0\n",
      " 0\n",
      " 2\n",
      " 2\n"
     ]
    },
    {
     "name": "stdout",
     "output_type": "stream",
     "text": [
      "2.8284271247461903\n"
     ]
    }
   ],
   "source": [
    "import math\n",
    "x1=int(input())\n",
    "y1=int(input())\n",
    "x2=int(input())\n",
    "y2=int(input())\n",
    "d=math.sqrt((x2-x1)**2+(y2-y1)**2)\n",
    "print(d)"
   ]
  },
  {
   "cell_type": "code",
   "execution_count": 23,
   "id": "853d857e-1cef-444e-a046-9ba85261ae8e",
   "metadata": {},
   "outputs": [
    {
     "name": "stdin",
     "output_type": "stream",
     "text": [
      " uday\n",
      " 8106118590\n",
      " hwbfaubwhxgfjbw\n",
      " 123@vnrvjiet.in\n"
     ]
    },
    {
     "name": "stdout",
     "output_type": "stream",
     "text": [
      "uday\n",
      "8106118590\n",
      "hwbfaubwhxgfjbw\n",
      "123@vnrvjiet.in\n"
     ]
    }
   ],
   "source": [
    "name=input()\n",
    "phone=int(input())\n",
    "address=input()\n",
    "email=input()\n",
    "print(name)\n",
    "print(phone)\n",
    "print(address)\n",
    "print(email)"
   ]
  },
  {
   "cell_type": "code",
   "execution_count": 27,
   "id": "991a0b7d-b09e-497f-8d43-5dc9159b12e8",
   "metadata": {},
   "outputs": [
    {
     "name": "stdin",
     "output_type": "stream",
     "text": [
      " 10000\n",
      " 0.05\n",
      " 10\n",
      " 4\n"
     ]
    },
    {
     "name": "stdout",
     "output_type": "stream",
     "text": [
      "6436.194634870102\n"
     ]
    }
   ],
   "source": [
    "\n",
    "principal=int(input())\n",
    "rate=float(input())\n",
    "time=int(input()) \n",
    "times_compounded=int(input())\n",
    "    \n",
    "amount = principal * (1 + rate / times_compounded) ** (times_compounded * time)\n",
    "compound_interest = amount - principal\n",
    "print( compound_interest)\n",
    "\n",
    "\n",
    "\n",
    "\n",
    "\n"
   ]
  },
  {
   "cell_type": "code",
   "execution_count": null,
   "id": "ed717df3-b1d7-4ab0-9c6f-e4f178dc35cc",
   "metadata": {},
   "outputs": [],
   "source": []
  }
 ],
 "metadata": {
  "kernelspec": {
   "display_name": "Python 3 (ipykernel)",
   "language": "python",
   "name": "python3"
  },
  "language_info": {
   "codemirror_mode": {
    "name": "ipython",
    "version": 3
   },
   "file_extension": ".py",
   "mimetype": "text/x-python",
   "name": "python",
   "nbconvert_exporter": "python",
   "pygments_lexer": "ipython3",
   "version": "3.12.4"
  }
 },
 "nbformat": 4,
 "nbformat_minor": 5
}
