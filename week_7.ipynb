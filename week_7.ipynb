{
 "cells": [
  {
   "cell_type": "code",
   "execution_count": 8,
   "id": "c226aeaa-d581-4672-a697-4440354d9dcf",
   "metadata": {},
   "outputs": [
    {
     "name": "stdout",
     "output_type": "stream",
     "text": [
      "Square area: 25\n",
      "Square perimeter: 20\n",
      "Circle area: 28.259999999999998\n",
      "Circle circumference: 18.84\n",
      "Triangle area: 12.0\n",
      "Triangle perimeter: 12\n"
     ]
    }
   ],
   "source": [
    "import math\n",
    "def square_area(side):\n",
    "    return side * side\n",
    "def square_perimeter(side):\n",
    "    return 4 * side\n",
    "def circle_area(radius):\n",
    "    return math.pi * radius**2\n",
    "def circle_circumference(radius):\n",
    "    return 2 * math.pi * radius\n",
    "def triangle_area(base, height):\n",
    "    return 0.5 * base * height\n",
    "def triangle_perimeter(side1, side2, side3):\n",
    "    return side1 + side2 + side3\n",
    "#import geometry\n",
    "side_length = 5\n",
    "radius = 3\n",
    "base = 4\n",
    "height = 6\n",
    "side1 = 3\n",
    "side2 = 4\n",
    "side3 = 5\n",
    "print(\"Square area:\", side_length*side_length)\n",
    "print(\"Square perimeter:\", 4*side_length)\n",
    "print(\"Circle area:\", 3.14*radius*radius)\n",
    "print(\"Circle circumference:\", 2*3.14*radius)\n",
    "print(\"Triangle area:\", 0.5*base*height)\n",
    "print(\"Triangle perimeter:\", side1+side2+side3)\n"
   ]
  },
  {
   "cell_type": "code",
   "execution_count": 14,
   "id": "ad084948-8807-4f0f-aa75-0ab621e53424",
   "metadata": {},
   "outputs": [
    {
     "name": "stdout",
     "output_type": "stream",
     "text": [
      "                   \n",
      "    # # # # #      \n",
      "    #       #      \n",
      "    # # # # #      \n",
      "                   \n",
      "                   \n"
     ]
    }
   ],
   "source": [
    "class Canvas:\n",
    "    def __init__(self, width, height):  # Fixed to __init__\n",
    "        self.width = width\n",
    "        self.height = height\n",
    "        self.grid = [[' ' for _ in range(width)] for _ in range(height)]\n",
    "\n",
    "    def draw(self):\n",
    "        for row in self.grid:\n",
    "            print(' '.join(row))\n",
    "\n",
    "\n",
    "class Rectangle:\n",
    "    def __init__(self, x, y, width, height):  # Fixed to __init__\n",
    "        self.x = x\n",
    "        self.y = y\n",
    "        self.width = width\n",
    "        self.height = height\n",
    "\n",
    "\n",
    "def draw_rectangle(canvas, rectangle):\n",
    "    for row in range(rectangle.y, rectangle.y + rectangle.height):\n",
    "        for col in range(rectangle.x, rectangle.x + rectangle.width):\n",
    "            if (\n",
    "                row == rectangle.y\n",
    "                or row == rectangle.y + rectangle.height - 1\n",
    "                or col == rectangle.x\n",
    "                or col == rectangle.x + rectangle.width - 1\n",
    "            ):\n",
    "                canvas.grid[row][col] = '#'\n",
    "\n",
    "\n",
    "# Example usage\n",
    "canvas = Canvas(10, 6)\n",
    "rectangle = Rectangle(2, 1, 5, 3)\n",
    "draw_rectangle(canvas, rectangle)\n",
    "canvas.draw()\n"
   ]
  },
  {
   "cell_type": "code",
   "execution_count": 16,
   "id": "931b4df8-d491-445a-b146-b928cafbaf48",
   "metadata": {},
   "outputs": [
    {
     "data": {
      "image/png": "[encoded data removed]",
      "text/plain": [
       "<Figure size 640x480 with 1 Axes>"
      ]
     },
     "metadata": {},
     "output_type": "display_data"
    }
   ],
   "source": [
    "import matplotlib.pyplot as plt\n",
    "import matplotlib.patches as patches\n",
    "\n",
    "class Canvas:\n",
    "\n",
    "    def __init__(self):\n",
    "        self.fig, self.ax = plt.subplots()\n",
    "\n",
    "    def draw_rectangle(self, rectangle):\n",
    "        x = rectangle.x\n",
    "        y = rectangle.y\n",
    "        width = rectangle.width\n",
    "        height = rectangle.height\n",
    "        color = rectangle.color\n",
    "        rect = patches.Rectangle((x, y), width, height, color=color)\n",
    "        self.ax.add_patch(rect)\n",
    "\n",
    "    def show(self):\n",
    "        plt.axis('equal')\n",
    "        plt.show()\n",
    "\n",
    "class Rectangle:\n",
    "\n",
    "    def __init__(self, x, y, width, height, color):\n",
    "        self.x = x\n",
    "        self.y = y\n",
    "        self.width = width\n",
    "        self.height = height\n",
    "        self.color = color\n",
    "\n",
    "# Example usage:\n",
    "canvas = Canvas()\n",
    "rectangle1 = Rectangle(1, 1, 4, 3, \"blue\")\n",
    "canvas.draw_rectangle(rectangle1)\n",
    "canvas.show()\n"
   ]
  },
  {
   "cell_type": "code",
   "execution_count": 18,
   "id": "1e2de707-a048-4f2d-8917-c221f84c6411",
   "metadata": {},
   "outputs": [
    {
     "data": {
      "image/png": "[encoded data removed]",
      "text/plain": [
       "<Figure size 640x480 with 1 Axes>"
      ]
     },
     "metadata": {},
     "output_type": "display_data"
    }
   ],
   "source": [
    "import matplotlib.pyplot as plt\n",
    "import matplotlib.patches as patches\n",
    "\n",
    "class Canvas:\n",
    "\n",
    "    def __init__(self):\n",
    "        self.fig, self.ax = plt.subplots()\n",
    "\n",
    "    def draw_point(self, point):\n",
    "        x = point.x\n",
    "        y = point.y\n",
    "        plt.plot(x, y, 'ro')\n",
    "\n",
    "    def show(self):\n",
    "        plt.axis('equal')\n",
    "        plt.show()\n",
    "\n",
    "class Point:\n",
    "\n",
    "    def __init__(self, x, y):\n",
    "        self.x = x\n",
    "        self.y = y\n",
    "# Example usage:\n",
    "canvas = Canvas()\n",
    "point1 = Point(3, 4)\n",
    "canvas.draw_point(point1)\n",
    "canvas.show()\n"
   ]
  },
  {
   "cell_type": "code",
   "execution_count": 20,
   "id": "b98945eb-1986-4991-aa94-7c1902a2ca65",
   "metadata": {},
   "outputs": [
    {
     "data": {
      "image/png": "[encoded data removed]",
      "text/plain": [
       "<Figure size 640x480 with 1 Axes>"
      ]
     },
     "metadata": {},
     "output_type": "display_data"
    }
   ],
   "source": [
    "import matplotlib.pyplot as plt\n",
    "import matplotlib.patches as patches\n",
    "\n",
    "class Canvas:\n",
    "\n",
    "    def __init__(self):\n",
    "        self.fig, self.ax = plt.subplots()\n",
    "\n",
    "    def draw_circle(self, circle):\n",
    "        x = circle.x\n",
    "        y = circle.y\n",
    "        radius = circle.radius\n",
    "        color = circle.color\n",
    "        circle = patches.Circle((x, y), radius, color=color)\n",
    "        self.ax.add_patch(circle)\n",
    "\n",
    "    def show(self):\n",
    "        plt.axis('equal')\n",
    "        plt.show()\n",
    "\n",
    "class Circle:\n",
    "\n",
    "    def __init__(self, x, y, radius, color):\n",
    "        self.x = x\n",
    "        self.y = y\n",
    "        self.radius = radius\n",
    "        self.color = color\n",
    "# Example usage:\n",
    "canvas = Canvas()\n",
    "circle1 = Circle(6, 4, 1, \"green\")\n",
    "canvas.draw_circle(circle1)\n"
   ]
  },
  {
   "cell_type": "code",
   "execution_count": 22,
   "id": "99bc2a21-8674-477b-ae6f-46cd1692ba10",
   "metadata": {},
   "outputs": [
    {
     "data": {
      "image/png": "[encoded data removed]",
      "text/plain": [
       "<Figure size 640x480 with 1 Axes>"
      ]
     },
     "metadata": {},
     "output_type": "display_data"
    }
   ],
   "source": [
    "import matplotlib.pyplot as plt\n",
    "import matplotlib.patches as patches\n",
    "\n",
    "class Canvas:\n",
    "\n",
    "    def __init__(self):\n",
    "        self.fig, self.ax = plt.subplots()\n",
    "\n",
    "    def draw_circle(self, circle):\n",
    "        x = circle.x\n",
    "        y = circle.y\n",
    "        radius = circle.radius\n",
    "        color = circle.color\n",
    "        circle = patches.Circle((x, y), radius, color=color)\n",
    "        self.ax.add_patch(circle)\n",
    "\n",
    "    def show(self):\n",
    "        plt.axis('equal')\n",
    "        plt.show()\n",
    "\n",
    "class Circle:\n",
    "\n",
    "    def __init__(self, x, y, radius, color):\n",
    "        self.x = x\n",
    "        self.y = y\n",
    "        self.radius = radius\n",
    "        self.color = color\n",
    "# Example usage:\n",
    "canvas = Canvas()\n",
    "circle1 = Circle(6, 4, 1, \"green\")\n",
    "canvas.draw_circle(circle1)\n",
    "canvas.show()\n"
   ]
  },
  {
   "cell_type": "code",
   "execution_count": 24,
   "id": "7e8d11ff-cc1c-4718-b37e-6de2b3eb0df5",
   "metadata": {},
   "outputs": [
    {
     "name": "stdout",
     "output_type": "stream",
     "text": [
      "D class method\n",
      "[<class '__main__.D'>, <class '__main__.B'>, <class '__main__.C'>, <class '__main__.A'>, <class 'object'>]\n"
     ]
    }
   ],
   "source": [
    "class A:\n",
    "    def show(self):\n",
    "        print(\"A class method\")\n",
    "\n",
    "class B(A):\n",
    "    def show(self):\n",
    "        print(\"B class method\")\n",
    "\n",
    "class C(A):\n",
    "    def show(self):\n",
    "        print(\"C class method\")\n",
    "\n",
    "class D(B, C):\n",
    "    def show(self):\n",
    "        print(\"D class method\")\n",
    "d_obj = D()\n",
    "d_obj.show()\n",
    "print(D.mro())\n"
   ]
  },
  {
   "cell_type": "code",
   "execution_count": null,
   "id": "5e03540c-95cd-46b7-b709-c89cce52fb57",
   "metadata": {},
   "outputs": [],
   "source": []
  }
 ],
 "metadata": {
  "kernelspec": {
   "display_name": "Python 3 (ipykernel)",
   "language": "python",
   "name": "python3"
  },
  "language_info": {
   "codemirror_mode": {
    "name": "ipython",
    "version": 3
   },
   "file_extension": ".py",
   "mimetype": "text/x-python",
   "name": "python",
   "nbconvert_exporter": "python",
   "pygments_lexer": "ipython3",
   "version": "3.12.4"
  }
 },
 "nbformat": 4,
 "nbformat_minor": 5
}
