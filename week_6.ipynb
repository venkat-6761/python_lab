{
 "cells": [
  {
   "cell_type": "code",
   "execution_count": 1,
   "id": "f25a0eb3-1d67-46af-8036-2495b06075b6",
   "metadata": {},
   "outputs": [
    {
     "name": "stdin",
     "output_type": "stream",
     "text": [
      "enter an number 1\n",
      "enter other number 0\n"
     ]
    },
    {
     "name": "stdout",
     "output_type": "stream",
     "text": [
      "Division by zero is not accepted\n"
     ]
    }
   ],
   "source": [
    "try:\n",
    "    num1=int(input(\"enter an number\"))\n",
    "    num2=int(input(\"enter other number\"))\n",
    "    result=num1/num2\n",
    "    print(\"result:\",result)\n",
    "except ZeroDivisionError:\n",
    "    print(\"Division by zero is not accepted\")\n",
    "except ValueError:\n",
    "    print(\"enter only integers\")\n",
    "except Exception as e:\n",
    "    print(\"an error occured\",str(e))\n"
   ]
  },
  {
   "cell_type": "code",
   "execution_count": 3,
   "id": "7881ff58-105d-4ffd-b8f6-f9cd78a94d35",
   "metadata": {},
   "outputs": [
    {
     "name": "stdin",
     "output_type": "stream",
     "text": [
      "enter the age 17\n"
     ]
    },
    {
     "name": "stdout",
     "output_type": "stream",
     "text": [
      "not a valid age\n"
     ]
    }
   ],
   "source": [
    "def voter_age(age):\n",
    "    try:\n",
    "        num=int(age)\n",
    "        if(num>18):\n",
    "            print(\"valid age\")\n",
    "        elif(num<18):\n",
    "            print(\"not a valid age\")\n",
    "    except Exception as e:\n",
    "        print(\"enter only integers:\",str(e))\n",
    "num=input(\"enter the age\")\n",
    "voter_age(num)\n"
   ]
  },
  {
   "cell_type": "code",
   "execution_count": 5,
   "id": "fc11efb0-e0b2-4c6a-9cc8-865e4ef79a32",
   "metadata": {},
   "outputs": [
    {
     "name": "stdin",
     "output_type": "stream",
     "text": [
      "enter students marks $\n"
     ]
    },
    {
     "name": "stdout",
     "output_type": "stream",
     "text": [
      "enter only integers : invalid literal for int() with base 10: '$'\n"
     ]
    }
   ],
   "source": [
    "def students_mark(marks):\n",
    "    try:\n",
    "        num=int(marks)\n",
    "        if(num>0):\n",
    "            print(\"valid number\")\n",
    "        elif(num<0 or num==0):\n",
    "            print(\"not valid\")\n",
    "    except Exception as e:\n",
    "        print(\"enter only integers :\",str(e))\n",
    "num=input(\"enter students marks\")\n",
    "students_mark(num)\n"
   ]
  },
  {
   "cell_type": "code",
   "execution_count": 7,
   "id": "57f49b50-f6af-49bd-8d09-c1e76ddc3ecc",
   "metadata": {},
   "outputs": [
    {
     "name": "stdin",
     "output_type": "stream",
     "text": [
      "enter a number 100\n",
      "enter other number 20\n"
     ]
    },
    {
     "name": "stdout",
     "output_type": "stream",
     "text": [
      "result :  5.0\n",
      "division successful\n",
      "program completed successfully\n"
     ]
    }
   ],
   "source": [
    "try:\n",
    "    num1=int(input(\"enter a number\"))\n",
    "    num2=int(input(\"enter other number\"))\n",
    "    result=num1/num2\n",
    "    print(\"result : \",result)\n",
    "except Exception as e:\n",
    "    print(\"error occured :\",str(e))\n",
    "else:\n",
    "    print(\"division successful\")\n",
    "finally:\n",
    "    print(\"program completed successfully\")\n"
   ]
  },
  {
   "cell_type": "code",
   "execution_count": 9,
   "id": "7b30ce8e-0ae9-4743-879c-aab20a5a7946",
   "metadata": {},
   "outputs": [
    {
     "name": "stdin",
     "output_type": "stream",
     "text": [
      "enter phone number 120716870&\n"
     ]
    },
    {
     "name": "stdout",
     "output_type": "stream",
     "text": [
      "phone number is not valid\n"
     ]
    }
   ],
   "source": [
    "import re\n",
    "def Validate_phone(phone):\n",
    "    pattern=r'^\\d{10}$'\n",
    "    if re.match(pattern,phone):\n",
    "        return True\n",
    "    else:\n",
    "        return False\n",
    "try:\n",
    "    phone=input(\"enter phone number\")\n",
    "    if Validate_phone(phone):\n",
    "        print(\"phone number is valid\")\n",
    "    else:\n",
    "        print(\"phone number is not valid\")\n",
    "except Exception as e:\n",
    "    print(\"exception : \",str(e))\n"
   ]
  },
  {
   "cell_type": "code",
   "execution_count": 11,
   "id": "4140ee87-4775-4bfe-a233-28df5666c467",
   "metadata": {},
   "outputs": [
    {
     "name": "stdin",
     "output_type": "stream",
     "text": [
      "enter your email-id actajk@gmail.com\n"
     ]
    },
    {
     "name": "stdout",
     "output_type": "stream",
     "text": [
      "id is correct\n"
     ]
    }
   ],
   "source": [
    "import re\n",
    "def email_id(id):\n",
    "    pattern=r'^[a-zA-Z0-9._+*-]+@[a-zA-Z0-9.-]+\\.[a-zA-Z]{2,}$'\n",
    "    if re.match(pattern,id):\n",
    "        return True\n",
    "    else:\n",
    "        return False\n",
    "try:\n",
    "    id=input(\"enter your email-id\")\n",
    "    if(email_id(id)):\n",
    "        print(\"id is correct\")\n",
    "    else:\n",
    "        print(\"id is incorrect\")\n",
    "except Exception as e:\n",
    "    print(\"Exception : \",str(e))\n"
   ]
  },
  {
   "cell_type": "code",
   "execution_count": null,
   "id": "aa57e148-57f6-49e8-90aa-f55259dce893",
   "metadata": {},
   "outputs": [],
   "source": []
  }
 ],
 "metadata": {
  "kernelspec": {
   "display_name": "Python 3 (ipykernel)",
   "language": "python",
   "name": "python3"
  },
  "language_info": {
   "codemirror_mode": {
    "name": "ipython",
    "version": 3
   },
   "file_extension": ".py",
   "mimetype": "text/x-python",
   "name": "python",
   "nbconvert_exporter": "python",
   "pygments_lexer": "ipython3",
   "version": "3.12.4"
  }
 },
 "nbformat": 4,
 "nbformat_minor": 5
}
