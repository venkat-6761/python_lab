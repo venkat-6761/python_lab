{
 "cells": [
  {
   "cell_type": "code",
   "execution_count": 5,
   "id": "be164b80",
   "metadata": {},
   "outputs": [
    {
     "name": "stdout",
     "output_type": "stream",
     "text": [
      "False\n",
      "True\n"
     ]
    }
   ],
   "source": [
    "\n",
    "\n",
    "def is_sorted(s):\n",
    "    sort_set=sorted(s)\n",
    "    if s==sort_set:\n",
    "        print(\"True\")\n",
    "    else:\n",
    "        print(\"False\")\n",
    "        \n",
    "a=[2,5,1,8,4]\n",
    "is_sorted(a)\n",
    "\n",
    "b=[1,2,3,4,5]\n",
    "is_sorted(b)"
   ]
  },
  {
   "cell_type": "code",
   "execution_count": 6,
   "id": "0c782c0c",
   "metadata": {},
   "outputs": [
    {
     "name": "stdout",
     "output_type": "stream",
     "text": [
      "True\n"
     ]
    }
   ],
   "source": [
    "a=[1,1,2,3,4,5,5]\n",
    "b=set(a)\n",
    "\n",
    "if a==b:\n",
    "    print(\"False\")\n",
    "else:\n",
    "    print(\"True\")"
   ]
  },
  {
   "cell_type": "code",
   "execution_count": 8,
   "id": "3191e368",
   "metadata": {},
   "outputs": [
    {
     "name": "stdout",
     "output_type": "stream",
     "text": [
      "1 2 3 2 4 4 5\n",
      "{'3', '4', '5', '1', '2'}\n"
     ]
    }
   ],
   "source": [
    "a=list(input().split())\n",
    "b=set(a)\n",
    "\n",
    "print(b)"
   ]
  },
  {
   "cell_type": "code",
   "execution_count": 21,
   "id": "fb3868d6",
   "metadata": {},
   "outputs": [
    {
     "name": "stdout",
     "output_type": "stream",
     "text": [
      "strin\n",
      "g\n",
      "string\n"
     ]
    }
   ],
   "source": [
    "str1=input()\n",
    "str2=input()\n",
    "\n",
    "str3=str1+str2\n",
    "print(str3)\n",
    "\n"
   ]
  },
  {
   "cell_type": "code",
   "execution_count": 18,
   "id": "9bb96c89",
   "metadata": {},
   "outputs": [
    {
     "name": "stdout",
     "output_type": "stream",
     "text": [
      "Size of dictionary:2\n",
      "a\n",
      "apple\n",
      "b\n",
      "ball\n",
      "dictionary is:\n",
      "{'a': 'apple', 'b': 'ball'}\n",
      "Inverted dictionary is:\n",
      "{'apple': 'a', 'ball': 'b'}\n"
     ]
    }
   ],
   "source": [
    "thisdict={}\n",
    "newdict={}\n",
    "n=int(input(\"Size of dictionary:\"))\n",
    "for i in range(n):\n",
    "    key=input()\n",
    "    value=input()\n",
    "    thisdict[key]=value\n",
    "\n",
    "print(\"dictionary is:\")\n",
    "print(thisdict)\n",
    "\n",
    "for key,value in thisdict.items():\n",
    "   \n",
    "    newdict[value]=key\n",
    "    \n",
    "print(\"Inverted dictionary is:\")\n",
    "print(newdict)\n",
    "    \n",
    "\n"
   ]
  },
  {
   "cell_type": "code",
   "execution_count": 23,
   "id": "28e64b9e",
   "metadata": {},
   "outputs": [
    {
     "name": "stdout",
     "output_type": "stream",
     "text": [
      "hi hi hi hello\n",
      "Hello Hello Hello hello\n"
     ]
    }
   ],
   "source": [
    "a=input()\n",
    "\n",
    "print(a.replace(\"hi\",\"Hello\"))"
   ]
  },
  {
   "cell_type": "code",
   "execution_count": 24,
   "id": "f150108d",
   "metadata": {},
   "outputs": [
    {
     "name": "stdout",
     "output_type": "stream",
     "text": [
      "uday\n",
      "Not palindrome\n"
     ]
    }
   ],
   "source": [
    "str1=input()\n",
    "str2=str1[:-1]\n",
    "if str1==str2:\n",
    "    print(\"Palindrome\")\n",
    "else:\n",
    "    print(\"Not palindrome\")"
   ]
  },
  {
   "cell_type": "code",
   "execution_count": 25,
   "id": "96bfbf52",
   "metadata": {},
   "outputs": [
    {
     "name": "stdout",
     "output_type": "stream",
     "text": [
      "uday\n",
      "u,d,a,y\n"
     ]
    }
   ],
   "source": [
    "a=input()\n",
    "b=\",\".join(a)\n",
    "print(b)"
   ]
  },
  {
   "cell_type": "code",
   "execution_count": 38,
   "id": "adff1769",
   "metadata": {},
   "outputs": [
    {
     "name": "stdout",
     "output_type": "stream",
     "text": [
      "1 2 3 4 5\n",
      "{1, 2, 3, 4, 5, 10}\n",
      "{3, 4, 5, 10}\n",
      "{4, 5, 10}\n"
     ]
    }
   ],
   "source": [
    "a=set(map(int,input().split()))\n",
    "\n",
    "a.add(10)\n",
    "print(a)\n",
    "a.remove(2) \n",
    "a.discard(1) \n",
    "print(a) \n",
    "\n",
    "a.pop() \n",
    "print(a)"
   ]
  },
  {
   "cell_type": "markdown",
   "id": "32530566",
   "metadata": {},
   "source": [
    "# a=set(input())\n",
    "\n",
    "a.add(10)\n",
    "print(a)\n",
    "\n",
    "a.remove(2)\n",
    "a.discard(1)\n",
    "print(a)\n",
    "a.pop(3)\n",
    "a.pop()\n",
    "print(a)"
   ]
  },
  {
   "cell_type": "code",
   "execution_count": 46,
   "id": "a6d162e1",
   "metadata": {},
   "outputs": [
    {
     "name": "stdout",
     "output_type": "stream",
     "text": [
      "enter the sectence:i am uday\n",
      "['I', 'Am', 'Uday']\n",
      "I Am Uday\n"
     ]
    }
   ],
   "source": [
    "words=input(\"enter the sectence:\")\n",
    "w=words.split()\n",
    "new_word=[word[0].upper()+word[1:].lower() for word in w]\n",
    "print(new_word)\n",
    "old_word=\" \".join(new_word)\n",
    "print(old_word)\n"
   ]
  },
  {
   "cell_type": "code",
   "execution_count": 42,
   "id": "e564553f",
   "metadata": {},
   "outputs": [
    {
     "name": "stdout",
     "output_type": "stream",
     "text": [
      "Enter a sentence: I am uday\n",
      "I Am Uday\n"
     ]
    }
   ],
   "source": []
  },
  {
   "cell_type": "code",
   "execution_count": null,
   "id": "3250860e",
   "metadata": {},
   "outputs": [],
   "source": []
  }
 ],
 "metadata": {
  "kernelspec": {
   "display_name": "Python 3 (ipykernel)",
   "language": "python",
   "name": "python3"
  },
  "language_info": {
   "codemirror_mode": {
    "name": "ipython",
    "version": 3
   },
   "file_extension": ".py",
   "mimetype": "text/x-python",
   "name": "python",
   "nbconvert_exporter": "python",
   "pygments_lexer": "ipython3",
   "version": "3.9.12"
  }
 },
 "nbformat": 4,
 "nbformat_minor": 5
}
